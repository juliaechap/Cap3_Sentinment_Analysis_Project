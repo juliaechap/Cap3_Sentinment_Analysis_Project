{
 "cells": [
  {
   "cell_type": "code",
   "execution_count": 1,
   "id": "9c9f7d6e",
   "metadata": {},
   "outputs": [],
   "source": [
    "import numpy as np \n",
    "import pandas as pd \n",
    "import matplotlib.pyplot as plt\n",
    "from tqdm import tqdm "
   ]
  },
  {
   "cell_type": "code",
   "execution_count": 2,
   "id": "9f8924cc",
   "metadata": {},
   "outputs": [],
   "source": [
    "key = '2e9891a667c0405abcc61bbcd089c547'\n",
    "endpoint = 'https://juliaechap.cognitiveservices.azure.com/'"
   ]
  },
  {
   "cell_type": "code",
   "execution_count": 3,
   "id": "6ecd492d",
   "metadata": {},
   "outputs": [],
   "source": [
    "from azure.ai.textanalytics import TextAnalyticsClient \n",
    "from azure.core.credentials import AzureKeyCredential \n",
    "\n",
    "def authenticate_client():\n",
    "    ta_credential = AzureKeyCredential(key)\n",
    "    text_analytics_client = TextAnalyticsClient(endpoint=endpoint,credential=ta_credential)\n",
    "    return text_analytics_client \n",
    "\n",
    "client = authenticate_client()\n",
    "\n",
    "\n",
    "\n"
   ]
  },
  {
   "cell_type": "code",
   "execution_count": 4,
   "id": "6ebedca3",
   "metadata": {},
   "outputs": [
    {
     "data": {
      "text/html": [
       "<div>\n",
       "<style scoped>\n",
       "    .dataframe tbody tr th:only-of-type {\n",
       "        vertical-align: middle;\n",
       "    }\n",
       "\n",
       "    .dataframe tbody tr th {\n",
       "        vertical-align: top;\n",
       "    }\n",
       "\n",
       "    .dataframe thead th {\n",
       "        text-align: right;\n",
       "    }\n",
       "</style>\n",
       "<table border=\"1\" class=\"dataframe\">\n",
       "  <thead>\n",
       "    <tr style=\"text-align: right;\">\n",
       "      <th></th>\n",
       "      <th>Unnamed: 0</th>\n",
       "      <th>Datetime</th>\n",
       "      <th>Tweet ID</th>\n",
       "      <th>Text</th>\n",
       "      <th>Username</th>\n",
       "      <th>Language</th>\n",
       "    </tr>\n",
       "  </thead>\n",
       "  <tbody>\n",
       "    <tr>\n",
       "      <th>0</th>\n",
       "      <td>0</td>\n",
       "      <td>2021-07-27 23:23:08+00:00</td>\n",
       "      <td>1420162870101241856</td>\n",
       "      <td>@Uber_Canada #uber so you tell me I have a dis...</td>\n",
       "      <td>berthorny</td>\n",
       "      <td>en</td>\n",
       "    </tr>\n",
       "    <tr>\n",
       "      <th>1</th>\n",
       "      <td>1</td>\n",
       "      <td>2021-07-27 23:02:19+00:00</td>\n",
       "      <td>1420157632476745728</td>\n",
       "      <td>Life in prison for man in killing of South Car...</td>\n",
       "      <td>upstractcom</td>\n",
       "      <td>en</td>\n",
       "    </tr>\n",
       "    <tr>\n",
       "      <th>2</th>\n",
       "      <td>2</td>\n",
       "      <td>2021-07-27 23:00:52+00:00</td>\n",
       "      <td>1420157266658054151</td>\n",
       "      <td>“Following the pandemic-led lockdowns, America...</td>\n",
       "      <td>badgerinstitute</td>\n",
       "      <td>en</td>\n",
       "    </tr>\n",
       "    <tr>\n",
       "      <th>3</th>\n",
       "      <td>3</td>\n",
       "      <td>2021-07-27 22:50:30+00:00</td>\n",
       "      <td>1420154657696100364</td>\n",
       "      <td>Great security at @iflymia @DHSgov with no des...</td>\n",
       "      <td>RafaelAntun</td>\n",
       "      <td>en</td>\n",
       "    </tr>\n",
       "    <tr>\n",
       "      <th>4</th>\n",
       "      <td>4</td>\n",
       "      <td>2021-07-27 22:39:35+00:00</td>\n",
       "      <td>1420151910905040896</td>\n",
       "      <td>@SkyNews Can govt start policing companies tha...</td>\n",
       "      <td>peaceandprotect</td>\n",
       "      <td>en</td>\n",
       "    </tr>\n",
       "  </tbody>\n",
       "</table>\n",
       "</div>"
      ],
      "text/plain": [
       "  Unnamed: 0                   Datetime             Tweet ID  \\\n",
       "0          0  2021-07-27 23:23:08+00:00  1420162870101241856   \n",
       "1          1  2021-07-27 23:02:19+00:00  1420157632476745728   \n",
       "2          2  2021-07-27 23:00:52+00:00  1420157266658054151   \n",
       "3          3  2021-07-27 22:50:30+00:00  1420154657696100364   \n",
       "4          4  2021-07-27 22:39:35+00:00  1420151910905040896   \n",
       "\n",
       "                                                Text         Username Language  \n",
       "0  @Uber_Canada #uber so you tell me I have a dis...        berthorny       en  \n",
       "1  Life in prison for man in killing of South Car...      upstractcom       en  \n",
       "2  “Following the pandemic-led lockdowns, America...  badgerinstitute       en  \n",
       "3  Great security at @iflymia @DHSgov with no des...      RafaelAntun       en  \n",
       "4  @SkyNews Can govt start policing companies tha...  peaceandprotect       en  "
      ]
     },
     "execution_count": 4,
     "metadata": {},
     "output_type": "execute_result"
    }
   ],
   "source": [
    "df = pd.read_csv('../Data/Cleaned_dataset_v1.csv')    \n",
    "df.head()"
   ]
  },
  {
   "cell_type": "code",
   "execution_count": 5,
   "id": "e0b747de",
   "metadata": {},
   "outputs": [
    {
     "data": {
      "text/plain": [
       "Unnamed: 0      0\n",
       "Datetime       41\n",
       "Tweet ID       41\n",
       "Text           82\n",
       "Username      123\n",
       "Language      123\n",
       "dtype: int64"
      ]
     },
     "execution_count": 5,
     "metadata": {},
     "output_type": "execute_result"
    }
   ],
   "source": [
    "df.isnull().sum()"
   ]
  },
  {
   "cell_type": "code",
   "execution_count": 6,
   "id": "b7616cf9",
   "metadata": {},
   "outputs": [],
   "source": [
    "df.dropna(inplace=True)"
   ]
  },
  {
   "cell_type": "code",
   "execution_count": 7,
   "id": "1fba99a8",
   "metadata": {},
   "outputs": [
    {
     "data": {
      "text/plain": [
       "Unnamed: 0    0\n",
       "Datetime      0\n",
       "Tweet ID      0\n",
       "Text          0\n",
       "Username      0\n",
       "Language      0\n",
       "dtype: int64"
      ]
     },
     "execution_count": 7,
     "metadata": {},
     "output_type": "execute_result"
    }
   ],
   "source": [
    "df.isnull().sum()"
   ]
  },
  {
   "cell_type": "code",
   "execution_count": 8,
   "id": "a98bd312",
   "metadata": {},
   "outputs": [
    {
     "data": {
      "text/html": [
       "<div>\n",
       "<style scoped>\n",
       "    .dataframe tbody tr th:only-of-type {\n",
       "        vertical-align: middle;\n",
       "    }\n",
       "\n",
       "    .dataframe tbody tr th {\n",
       "        vertical-align: top;\n",
       "    }\n",
       "\n",
       "    .dataframe thead th {\n",
       "        text-align: right;\n",
       "    }\n",
       "</style>\n",
       "<table border=\"1\" class=\"dataframe\">\n",
       "  <thead>\n",
       "    <tr style=\"text-align: right;\">\n",
       "      <th></th>\n",
       "      <th>Text</th>\n",
       "    </tr>\n",
       "  </thead>\n",
       "  <tbody>\n",
       "    <tr>\n",
       "      <th>0</th>\n",
       "      <td>@Uber_Canada #uber so you tell me I have a dis...</td>\n",
       "    </tr>\n",
       "    <tr>\n",
       "      <th>1</th>\n",
       "      <td>Life in prison for man in killing of South Car...</td>\n",
       "    </tr>\n",
       "    <tr>\n",
       "      <th>2</th>\n",
       "      <td>“Following the pandemic-led lockdowns, America...</td>\n",
       "    </tr>\n",
       "    <tr>\n",
       "      <th>3</th>\n",
       "      <td>Great security at @iflymia @DHSgov with no des...</td>\n",
       "    </tr>\n",
       "    <tr>\n",
       "      <th>4</th>\n",
       "      <td>@SkyNews Can govt start policing companies tha...</td>\n",
       "    </tr>\n",
       "    <tr>\n",
       "      <th>...</th>\n",
       "      <td>...</td>\n",
       "    </tr>\n",
       "    <tr>\n",
       "      <th>30491</th>\n",
       "      <td>Please don’t drink and drive! Think about it! ...</td>\n",
       "    </tr>\n",
       "    <tr>\n",
       "      <th>30492</th>\n",
       "      <td>For $5 in ride credit, download the Lyft app u...</td>\n",
       "    </tr>\n",
       "    <tr>\n",
       "      <th>30493</th>\n",
       "      <td>Car check! Make it a habit to check all these ...</td>\n",
       "    </tr>\n",
       "    <tr>\n",
       "      <th>30494</th>\n",
       "      <td>Requested a #Lyft, #Uber, or #Taxi through an ...</td>\n",
       "    </tr>\n",
       "    <tr>\n",
       "      <th>30495</th>\n",
       "      <td>Oh #Lyft playing games tonight y'all! \\nIm jus...</td>\n",
       "    </tr>\n",
       "  </tbody>\n",
       "</table>\n",
       "<p>30373 rows × 1 columns</p>\n",
       "</div>"
      ],
      "text/plain": [
       "                                                    Text\n",
       "0      @Uber_Canada #uber so you tell me I have a dis...\n",
       "1      Life in prison for man in killing of South Car...\n",
       "2      “Following the pandemic-led lockdowns, America...\n",
       "3      Great security at @iflymia @DHSgov with no des...\n",
       "4      @SkyNews Can govt start policing companies tha...\n",
       "...                                                  ...\n",
       "30491  Please don’t drink and drive! Think about it! ...\n",
       "30492  For $5 in ride credit, download the Lyft app u...\n",
       "30493  Car check! Make it a habit to check all these ...\n",
       "30494  Requested a #Lyft, #Uber, or #Taxi through an ...\n",
       "30495  Oh #Lyft playing games tonight y'all! \\nIm jus...\n",
       "\n",
       "[30373 rows x 1 columns]"
      ]
     },
     "execution_count": 8,
     "metadata": {},
     "output_type": "execute_result"
    }
   ],
   "source": [
    "text = pd.DataFrame(df['Text'])\n",
    "text"
   ]
  },
  {
   "cell_type": "markdown",
   "id": "b8f7cc55",
   "metadata": {},
   "source": [
    "def sentiment_analysis(client,dataframe,documents):\n",
    "\n",
    "    sentiment = []\n",
    "\n",
    "    for row in tqdm(documents):\n",
    "        response = client.analyze_sentiment(documents=row)[0]\n",
    "        sentiment.append(response.sentiment)\n",
    "    \n",
    "    df['Sentiment'] = sentiment\n",
    "    \n"
   ]
  },
  {
   "cell_type": "code",
   "execution_count": 9,
   "id": "a0cf2a5f",
   "metadata": {},
   "outputs": [],
   "source": [
    "senti_lists = []\n",
    "\n",
    "for row in range((text.shape[0])):\n",
    "    senti_lists.append(list(text.iloc[row,:]))\n",
    "    \n",
    "    "
   ]
  },
  {
   "cell_type": "markdown",
   "id": "223450ce",
   "metadata": {},
   "source": [
    "list_1 = pd.DataFrame({'color':[['the yellow house is cute'],['I hate those shoes'],['I love those shoes']]})\n",
    "list_2 = []\n",
    "\n",
    "\n",
    "for row in range((list_1.shape[0])):\n",
    "    list_2.append(list(text.iloc[row,:]))\n",
    "\n"
   ]
  },
  {
   "cell_type": "code",
   "execution_count": null,
   "id": "2ec982c6",
   "metadata": {},
   "outputs": [],
   "source": [
    "df['Sentiment'] = [client.analyze_sentiment(documents=row)[0] for row in senti_lists]"
   ]
  },
  {
   "cell_type": "markdown",
   "id": "46f7d576",
   "metadata": {},
   "source": [
    "rows_per_loop = 10\n",
    "sentiment_data= None\n",
    "\n",
    "def sentiment_analysis(client):\n",
    "    global senti_list\n",
    "    \n",
    "    sentiment = []\n",
    "    senti_list = []\n",
    "    \n",
    "    for i, g in text.groupby(text.index // rows_per_loop):\n",
    "        senti_list.append(list(g.iloc[i:,]))\n",
    "        \n",
    "        \n",
    "    documents = senti_list\n",
    "    for row in tqdm(documents):\n",
    "        response = client.analyze_sentiment(documents=row)[0]\n",
    "        sentiment_data.append(response.sentiment)\n",
    "     \n",
    "        \n"
   ]
  },
  {
   "cell_type": "code",
   "execution_count": null,
   "id": "81b4e8bd",
   "metadata": {},
   "outputs": [],
   "source": [
    "#single sentence sentiment \n",
    "\n",
    "def sentiment_analysis_example(client):\n",
    "    \n",
    "    documents = ['Get your first #Uber ride #FREE (up to $20) with invite code aaront3765ue. Enjoy! üòä  Download the App ‚ñ∫ https://t.co/x2Sl4E0EGP']\n",
    "    response = client.analyze_sentiment(documents=documents)[0]\n",
    "    return response.sentiment\n",
    "\n",
    "sentiment_analysis_example(client)"
   ]
  },
  {
   "cell_type": "code",
   "execution_count": null,
   "id": "b2a42128",
   "metadata": {},
   "outputs": [],
   "source": []
  },
  {
   "cell_type": "code",
   "execution_count": null,
   "id": "dd46818d",
   "metadata": {},
   "outputs": [],
   "source": []
  }
 ],
 "metadata": {
  "kernelspec": {
   "display_name": "Python 3",
   "language": "python",
   "name": "python3"
  }
 },
 "nbformat": 4,
 "nbformat_minor": 5
}
